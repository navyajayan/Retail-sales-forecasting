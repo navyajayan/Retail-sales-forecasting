{
 "cells": [
  {
   "cell_type": "markdown",
   "id": "2144e3f9",
   "metadata": {},
   "source": [
    "## Feature Engineering\n",
    "This Notebook will:\n",
    "Create time-based features (day_of_week, month, year, week_of_year, is_holiday)\n",
    "\n",
    "Create lag features (sales_last_week, sales_two_weeks_ago)\n",
    "\n",
    "Create rolling averages (rolling_4_weeks, rolling_8_weeks)\n",
    "\n",
    "Save the final dataset as merged_features.csv"
   ]
  },
  {
   "cell_type": "code",
   "execution_count": 2,
   "id": "09425782",
   "metadata": {},
   "outputs": [],
   "source": [
    "import pandas as pd\n",
    "import numpy as np\n"
   ]
  },
  {
   "cell_type": "code",
   "execution_count": 3,
   "id": "c5b6fe01",
   "metadata": {},
   "outputs": [
    {
     "name": "stdout",
     "output_type": "stream",
     "text": [
      "Loaded merged_cleaned.csv with shape: (3054348, 14)\n"
     ]
    }
   ],
   "source": [
    "# Load cleaned data\n",
    "data = pd.read_csv(\"data/merged_cleaned.csv\", parse_dates=[\"date\"])\n",
    "print(\"Loaded merged_cleaned.csv with shape:\", data.shape)\n"
   ]
  },
  {
   "cell_type": "markdown",
   "id": "6c09441a",
   "metadata": {},
   "source": [
    "#### Time based Features"
   ]
  },
  {
   "cell_type": "code",
   "execution_count": 4,
   "id": "dba4df8a",
   "metadata": {},
   "outputs": [],
   "source": [
    "# Day of week, month, year, week of year\n",
    "data[\"day_of_week\"] = data[\"date\"].dt.dayofweek      \n",
    "data[\"month\"] = data[\"date\"].dt.month\n",
    "data[\"year\"] = data[\"date\"].dt.year\n",
    "data[\"week_of_year\"] = data[\"date\"].dt.isocalendar().week"
   ]
  },
  {
   "cell_type": "markdown",
   "id": "82d390f2",
   "metadata": {},
   "source": [
    "#### Lag Features"
   ]
  },
  {
   "cell_type": "code",
   "execution_count": 5,
   "id": "343919b9",
   "metadata": {},
   "outputs": [],
   "source": [
    "\n",
    "data = data.sort_values(by=[\"store_nbr\", \"family\", \"date\"])\n",
    "\n",
    "data[\"sales_last_week\"] = data.groupby([\"store_nbr\", \"family\"])[\"sales\"].shift(7)\n",
    "data[\"sales_two_weeks_ago\"] = data.groupby([\"store_nbr\", \"family\"])[\"sales\"].shift(14)\n"
   ]
  },
  {
   "cell_type": "markdown",
   "id": "990ad3ae",
   "metadata": {},
   "source": [
    "#### Rolling Features"
   ]
  },
  {
   "cell_type": "code",
   "execution_count": 7,
   "id": "93712bce",
   "metadata": {},
   "outputs": [],
   "source": [
    "data[\"rolling_4_weeks\"] = data.groupby([\"store_nbr\", \"family\"])[\"sales\"].transform(lambda x: x.shift(1).rolling(28, min_periods=1).mean())\n",
    "data[\"rolling_8_weeks\"] = data.groupby([\"store_nbr\", \"family\"])[\"sales\"].transform(lambda x: x.shift(1).rolling(56, min_periods=1).mean())\n"
   ]
  },
  {
   "cell_type": "code",
   "execution_count": 13,
   "id": "7ee86974",
   "metadata": {},
   "outputs": [
    {
     "name": "stdout",
     "output_type": "stream",
     "text": [
      "✅ Feature-engineered dataset saved as 'merged_feature_engineered.parquet'\n"
     ]
    }
   ],
   "source": [
    "\n",
    "categorical_cols = [\"store_nbr\", \"family\", \"city\", \"state\", \"type\", \"cluster\"]\n",
    "for col in categorical_cols:\n",
    "    data[col] = data[col].astype(\"category\")\n",
    "\n",
    "data.to_parquet(\"data/merged_feature_engineered.parquet\", index=False)\n",
    "print(\" Feature-engineered dataset saved as 'merged_feature_engineered.parquet'\")\n"
   ]
  },
  {
   "cell_type": "code",
   "execution_count": null,
   "id": "1e6ab8e2",
   "metadata": {},
   "outputs": [],
   "source": []
  }
 ],
 "metadata": {
  "kernelspec": {
   "display_name": "base",
   "language": "python",
   "name": "python3"
  },
  "language_info": {
   "codemirror_mode": {
    "name": "ipython",
    "version": 3
   },
   "file_extension": ".py",
   "mimetype": "text/x-python",
   "name": "python",
   "nbconvert_exporter": "python",
   "pygments_lexer": "ipython3",
   "version": "3.12.7"
  }
 },
 "nbformat": 4,
 "nbformat_minor": 5
}
